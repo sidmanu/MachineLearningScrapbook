{
 "cells": [
  {
   "cell_type": "markdown",
   "metadata": {},
   "source": [
    "# 0. Install Dependencies"
   ]
  },
  {
   "cell_type": "markdown",
   "metadata": {},
   "source": [
    "# IMPORTANT Make sure you create a conda environment with Python 3.7 installed "
   ]
  },
  {
   "cell_type": "code",
   "execution_count": 1,
   "metadata": {
    "tags": []
   },
   "outputs": [
    {
     "name": "stdout",
     "output_type": "stream",
     "text": [
      "Requirement already satisfied: gym==0.18.0 in /Users/siddharthmanu/anaconda3/envs/keras-rl/lib/python3.7/site-packages (0.18.0)\n",
      "Collecting pyglet<=1.5.0,>=1.4.0\n",
      "  Using cached pyglet-1.5.0-py2.py3-none-any.whl (1.0 MB)\n",
      "Requirement already satisfied: Pillow<=7.2.0 in /Users/siddharthmanu/anaconda3/envs/keras-rl/lib/python3.7/site-packages (from gym==0.18.0) (7.2.0)\n",
      "Requirement already satisfied: numpy>=1.10.4 in /Users/siddharthmanu/anaconda3/envs/keras-rl/lib/python3.7/site-packages (from gym==0.18.0) (1.18.5)\n",
      "Requirement already satisfied: cloudpickle<1.7.0,>=1.2.0 in /Users/siddharthmanu/anaconda3/envs/keras-rl/lib/python3.7/site-packages (from gym==0.18.0) (1.6.0)\n",
      "Requirement already satisfied: scipy in /Users/siddharthmanu/anaconda3/envs/keras-rl/lib/python3.7/site-packages (from gym==0.18.0) (1.4.1)\n",
      "Requirement already satisfied: future in /Users/siddharthmanu/anaconda3/envs/keras-rl/lib/python3.7/site-packages (from pyglet<=1.5.0,>=1.4.0->gym==0.18.0) (1.0.0)\n",
      "Installing collected packages: pyglet\n",
      "  Attempting uninstall: pyglet\n",
      "    Found existing installation: pyglet 1.5.11\n",
      "    Uninstalling pyglet-1.5.11:\n",
      "      Successfully uninstalled pyglet-1.5.11\n",
      "Successfully installed pyglet-1.5.0\n",
      "Collecting pyglet==1.5.11\n",
      "  Using cached pyglet-1.5.11-py3-none-any.whl (1.1 MB)\n",
      "Installing collected packages: pyglet\n",
      "  Attempting uninstall: pyglet\n",
      "    Found existing installation: pyglet 1.5.0\n",
      "    Uninstalling pyglet-1.5.0:\n",
      "      Successfully uninstalled pyglet-1.5.0\n",
      "\u001b[31mERROR: pip's dependency resolver does not currently take into account all the packages that are installed. This behaviour is the source of the following dependency conflicts.\n",
      "gym 0.18.0 requires pyglet<=1.5.0,>=1.4.0, but you have pyglet 1.5.11 which is incompatible.\u001b[0m\u001b[31m\n",
      "\u001b[0mSuccessfully installed pyglet-1.5.11\n"
     ]
    }
   ],
   "source": [
    "!pip install tensorflow==2.3.0\n",
    "!pip install gym==0.18.0\n",
    "!pip install keras\n",
    "!pip install keras-rl2\n",
    "!pip install rl-agents==0.1.1\n",
    "!pip install pyglet==1.5.11"
   ]
  },
  {
   "cell_type": "markdown",
   "metadata": {
    "tags": []
   },
   "source": [
    "## IMPORTANT https://stackoverflow.com/questions/73978651/valueerror-error-when-checking-input-expected-flatten-input-to-have-shape-1 "
   ]
  },
  {
   "cell_type": "markdown",
   "metadata": {},
   "source": [
    "# 1. Test Random Environment with OpenAI Gym"
   ]
  },
  {
   "cell_type": "code",
   "execution_count": 2,
   "metadata": {
    "tags": []
   },
   "outputs": [],
   "source": [
    "import gym "
   ]
  },
  {
   "cell_type": "code",
   "execution_count": 3,
   "metadata": {
    "tags": []
   },
   "outputs": [
    {
     "name": "stdout",
     "output_type": "stream",
     "text": [
      "states (4,)\n",
      "actions 2\n",
      "observation space Box(-3.4028234663852886e+38, 3.4028234663852886e+38, (4,), float32)\n",
      "action space Discrete(2)\n"
     ]
    }
   ],
   "source": [
    "env = gym.make('CartPole-v1')\n",
    "states = env.observation_space.shape\n",
    "actions = env.action_space.n\n",
    "\n",
    "observation_space = env.observation_space\n",
    "action_space = env.action_space\n",
    "\n",
    "print(\"states\", states)\n",
    "print(\"actions\", actions)\n",
    "print(\"observation space\", observation_space)\n",
    "print(\"action space\", action_space)"
   ]
  },
  {
   "cell_type": "code",
   "execution_count": null,
   "metadata": {
    "tags": []
   },
   "outputs": [],
   "source": []
  },
  {
   "cell_type": "code",
   "execution_count": 4,
   "metadata": {
    "tags": []
   },
   "outputs": [
    {
     "name": "stdout",
     "output_type": "stream",
     "text": [
      "Episode:1 Score:45.0\n",
      "Episode:2 Score:18.0\n",
      "Episode:3 Score:26.0\n",
      "Episode:4 Score:11.0\n",
      "Episode:5 Score:11.0\n",
      "Episode:6 Score:15.0\n",
      "Episode:7 Score:9.0\n",
      "Episode:8 Score:38.0\n",
      "Episode:9 Score:10.0\n",
      "Episode:10 Score:11.0\n"
     ]
    }
   ],
   "source": [
    "episodes = 10\n",
    "for episode in range(1, episodes+1):\n",
    "    state = env.reset()\n",
    "    done = False\n",
    "    score = 0 \n",
    "    \n",
    "    while not done:\n",
    "        #env.render()\n",
    "        action = env.action_space.sample()\n",
    "        n_state, reward, done, info = env.step(action)\n",
    "        score+=reward\n",
    "    print('Episode:{} Score:{}'.format(episode, score))"
   ]
  },
  {
   "cell_type": "code",
   "execution_count": 5,
   "metadata": {
    "tags": []
   },
   "outputs": [
    {
     "data": {
      "text/plain": [
       "(4, 1)"
      ]
     },
     "execution_count": 5,
     "metadata": {},
     "output_type": "execute_result"
    }
   ],
   "source": [
    "states[0],1"
   ]
  },
  {
   "cell_type": "markdown",
   "metadata": {},
   "source": [
    "# 2. Create a Deep Learning Model with Keras"
   ]
  },
  {
   "cell_type": "code",
   "execution_count": 6,
   "metadata": {
    "tags": []
   },
   "outputs": [],
   "source": [
    "import numpy as np\n",
    "from tensorflow.keras.models import Sequential\n",
    "from tensorflow.keras.layers import Dense, Flatten,Input\n",
    "from tensorflow.keras.optimizers import Adam\n"
   ]
  },
  {
   "cell_type": "code",
   "execution_count": 7,
   "metadata": {
    "tags": []
   },
   "outputs": [],
   "source": [
    "def build_model(states, actions):\n",
    "    model = Sequential()\n",
    "    model.add(Flatten(input_shape=(1,states[0])))\n",
    "    model.add(Dense(24, activation='relu'))\n",
    "    model.add(Dense(24, activation='relu'))\n",
    "    model.add(Dense(actions, activation='linear'))\n",
    "    return model"
   ]
  },
  {
   "cell_type": "code",
   "execution_count": 16,
   "metadata": {},
   "outputs": [],
   "source": [
    "# sometimes, when we get the following error, we need to delete the model and build it \n",
    "# \n",
    "# AttributeError: 'Sequential' object has no attribute '_compile_time_distribution_strategy'\n",
    "\n",
    "\n",
    "if \"model\" in locals():\n",
    "    del model"
   ]
  },
  {
   "cell_type": "code",
   "execution_count": 17,
   "metadata": {
    "tags": []
   },
   "outputs": [],
   "source": [
    "model = build_model(states, actions)"
   ]
  },
  {
   "cell_type": "markdown",
   "metadata": {},
   "source": [
    "# 3. Build Agent with Keras-RL"
   ]
  },
  {
   "cell_type": "code",
   "execution_count": 10,
   "metadata": {
    "tags": []
   },
   "outputs": [
    {
     "name": "stdout",
     "output_type": "stream",
     "text": [
      "Model: \"sequential\"\n",
      "_________________________________________________________________\n",
      "Layer (type)                 Output Shape              Param #   \n",
      "=================================================================\n",
      "flatten (Flatten)            (None, 4)                 0         \n",
      "_________________________________________________________________\n",
      "dense (Dense)                (None, 24)                120       \n",
      "_________________________________________________________________\n",
      "dense_1 (Dense)              (None, 24)                600       \n",
      "_________________________________________________________________\n",
      "dense_2 (Dense)              (None, 2)                 50        \n",
      "=================================================================\n",
      "Total params: 770\n",
      "Trainable params: 770\n",
      "Non-trainable params: 0\n",
      "_________________________________________________________________\n"
     ]
    }
   ],
   "source": [
    "model.summary()"
   ]
  },
  {
   "cell_type": "code",
   "execution_count": 11,
   "metadata": {
    "tags": []
   },
   "outputs": [],
   "source": [
    "from rl.agents import DQNAgent\n",
    "from rl.policy import BoltzmannQPolicy\n",
    "from rl.memory import SequentialMemory"
   ]
  },
  {
   "cell_type": "code",
   "execution_count": 12,
   "metadata": {
    "tags": []
   },
   "outputs": [
    {
     "data": {
      "text/plain": [
       "(4,)"
      ]
     },
     "execution_count": 12,
     "metadata": {},
     "output_type": "execute_result"
    }
   ],
   "source": [
    "# Example of an observation from the environment\n",
    "observation = env.reset()  # This should be a 1D array with shape (4,)\n",
    "observation.shape"
   ]
  },
  {
   "cell_type": "code",
   "execution_count": 13,
   "metadata": {
    "tags": []
   },
   "outputs": [],
   "source": [
    "def build_agent(model, actions):\n",
    "    policy = BoltzmannQPolicy()\n",
    "    memory = SequentialMemory(limit=50000, window_length=1)\n",
    "    dqn = DQNAgent(model=model, memory=memory, policy=policy, \n",
    "                  nb_actions=actions, nb_steps_warmup=10, target_model_update=1e-2)\n",
    "    return dqn"
   ]
  },
  {
   "cell_type": "code",
   "execution_count": 18,
   "metadata": {
    "tags": []
   },
   "outputs": [
    {
     "name": "stdout",
     "output_type": "stream",
     "text": [
      "Training for 10000 steps ...\n",
      "Interval 1 (0 steps performed)\n",
      "WARNING:tensorflow:From /Users/siddharthmanu/anaconda3/envs/keras-rl/lib/python3.7/site-packages/tensorflow/python/keras/engine/training_v1.py:2070: Model.state_updates (from tensorflow.python.keras.engine.training) is deprecated and will be removed in a future version.\n",
      "Instructions for updating:\n",
      "This property should not be used in TensorFlow 2.0, as updates are applied automatically.\n",
      "    1/10000 [..............................] - ETA: 12:42 - reward: 1.0000"
     ]
    },
    {
     "name": "stderr",
     "output_type": "stream",
     "text": [
      "/Users/siddharthmanu/anaconda3/envs/keras-rl/lib/python3.7/site-packages/rl/memory.py:37: UserWarning: Not enough entries to sample without replacement. Consider increasing your warm-up phase to avoid oversampling!\n",
      "  warnings.warn('Not enough entries to sample without replacement. Consider increasing your warm-up phase to avoid oversampling!')\n"
     ]
    },
    {
     "name": "stdout",
     "output_type": "stream",
     "text": [
      "10000/10000 [==============================] - 64s 6ms/step - reward: 1.0000\n",
      "done, took 63.946 seconds\n"
     ]
    },
    {
     "data": {
      "text/plain": [
       "<tensorflow.python.keras.callbacks.History at 0x7fdea600e750>"
      ]
     },
     "execution_count": 18,
     "metadata": {},
     "output_type": "execute_result"
    }
   ],
   "source": [
    "dqn = build_agent(model, actions)\n",
    "dqn.compile(Adam(lr=1e-3), metrics=['mae'])\n",
    "dqn.fit(env, nb_steps=10000, visualize=False, verbose=1)"
   ]
  },
  {
   "cell_type": "code",
   "execution_count": 19,
   "metadata": {
    "tags": []
   },
   "outputs": [
    {
     "name": "stdout",
     "output_type": "stream",
     "text": [
      "Testing for 100 episodes ...\n",
      "Episode 1: reward: 226.000, steps: 226\n",
      "Episode 2: reward: 174.000, steps: 174\n",
      "Episode 3: reward: 187.000, steps: 187\n",
      "Episode 4: reward: 200.000, steps: 200\n",
      "Episode 5: reward: 178.000, steps: 178\n",
      "Episode 6: reward: 191.000, steps: 191\n",
      "Episode 7: reward: 237.000, steps: 237\n",
      "Episode 8: reward: 329.000, steps: 329\n",
      "Episode 9: reward: 207.000, steps: 207\n",
      "Episode 10: reward: 304.000, steps: 304\n",
      "Episode 11: reward: 289.000, steps: 289\n",
      "Episode 12: reward: 190.000, steps: 190\n",
      "Episode 13: reward: 174.000, steps: 174\n",
      "Episode 14: reward: 185.000, steps: 185\n",
      "Episode 15: reward: 175.000, steps: 175\n",
      "Episode 16: reward: 194.000, steps: 194\n",
      "Episode 17: reward: 199.000, steps: 199\n",
      "Episode 18: reward: 377.000, steps: 377\n",
      "Episode 19: reward: 258.000, steps: 258\n",
      "Episode 20: reward: 271.000, steps: 271\n",
      "Episode 21: reward: 168.000, steps: 168\n",
      "Episode 22: reward: 212.000, steps: 212\n",
      "Episode 23: reward: 204.000, steps: 204\n",
      "Episode 24: reward: 180.000, steps: 180\n",
      "Episode 25: reward: 276.000, steps: 276\n",
      "Episode 26: reward: 318.000, steps: 318\n",
      "Episode 27: reward: 218.000, steps: 218\n",
      "Episode 28: reward: 210.000, steps: 210\n",
      "Episode 29: reward: 221.000, steps: 221\n",
      "Episode 30: reward: 239.000, steps: 239\n",
      "Episode 31: reward: 238.000, steps: 238\n",
      "Episode 32: reward: 216.000, steps: 216\n",
      "Episode 33: reward: 259.000, steps: 259\n",
      "Episode 34: reward: 193.000, steps: 193\n",
      "Episode 35: reward: 278.000, steps: 278\n",
      "Episode 36: reward: 323.000, steps: 323\n",
      "Episode 37: reward: 195.000, steps: 195\n",
      "Episode 38: reward: 226.000, steps: 226\n",
      "Episode 39: reward: 415.000, steps: 415\n",
      "Episode 40: reward: 207.000, steps: 207\n",
      "Episode 41: reward: 224.000, steps: 224\n",
      "Episode 42: reward: 320.000, steps: 320\n",
      "Episode 43: reward: 199.000, steps: 199\n",
      "Episode 44: reward: 169.000, steps: 169\n",
      "Episode 45: reward: 358.000, steps: 358\n",
      "Episode 46: reward: 304.000, steps: 304\n",
      "Episode 47: reward: 174.000, steps: 174\n",
      "Episode 48: reward: 266.000, steps: 266\n",
      "Episode 49: reward: 271.000, steps: 271\n",
      "Episode 50: reward: 193.000, steps: 193\n",
      "Episode 51: reward: 313.000, steps: 313\n",
      "Episode 52: reward: 326.000, steps: 326\n",
      "Episode 53: reward: 212.000, steps: 212\n",
      "Episode 54: reward: 194.000, steps: 194\n",
      "Episode 55: reward: 241.000, steps: 241\n",
      "Episode 56: reward: 235.000, steps: 235\n",
      "Episode 57: reward: 229.000, steps: 229\n",
      "Episode 58: reward: 237.000, steps: 237\n",
      "Episode 59: reward: 221.000, steps: 221\n",
      "Episode 60: reward: 266.000, steps: 266\n",
      "Episode 61: reward: 202.000, steps: 202\n",
      "Episode 62: reward: 232.000, steps: 232\n",
      "Episode 63: reward: 251.000, steps: 251\n",
      "Episode 64: reward: 272.000, steps: 272\n",
      "Episode 65: reward: 215.000, steps: 215\n",
      "Episode 66: reward: 452.000, steps: 452\n",
      "Episode 67: reward: 174.000, steps: 174\n",
      "Episode 68: reward: 180.000, steps: 180\n",
      "Episode 69: reward: 224.000, steps: 224\n",
      "Episode 70: reward: 202.000, steps: 202\n",
      "Episode 71: reward: 186.000, steps: 186\n",
      "Episode 72: reward: 213.000, steps: 213\n",
      "Episode 73: reward: 217.000, steps: 217\n",
      "Episode 74: reward: 259.000, steps: 259\n",
      "Episode 75: reward: 191.000, steps: 191\n",
      "Episode 76: reward: 233.000, steps: 233\n",
      "Episode 77: reward: 210.000, steps: 210\n",
      "Episode 78: reward: 190.000, steps: 190\n",
      "Episode 79: reward: 199.000, steps: 199\n",
      "Episode 80: reward: 273.000, steps: 273\n",
      "Episode 81: reward: 198.000, steps: 198\n",
      "Episode 82: reward: 192.000, steps: 192\n",
      "Episode 83: reward: 271.000, steps: 271\n",
      "Episode 84: reward: 187.000, steps: 187\n",
      "Episode 85: reward: 204.000, steps: 204\n",
      "Episode 86: reward: 231.000, steps: 231\n",
      "Episode 87: reward: 344.000, steps: 344\n",
      "Episode 88: reward: 268.000, steps: 268\n",
      "Episode 89: reward: 228.000, steps: 228\n",
      "Episode 90: reward: 173.000, steps: 173\n",
      "Episode 91: reward: 194.000, steps: 194\n",
      "Episode 92: reward: 196.000, steps: 196\n",
      "Episode 93: reward: 166.000, steps: 166\n",
      "Episode 94: reward: 252.000, steps: 252\n",
      "Episode 95: reward: 500.000, steps: 500\n",
      "Episode 96: reward: 204.000, steps: 204\n",
      "Episode 97: reward: 170.000, steps: 170\n",
      "Episode 98: reward: 198.000, steps: 198\n",
      "Episode 99: reward: 189.000, steps: 189\n",
      "Episode 100: reward: 215.000, steps: 215\n",
      "234.48\n"
     ]
    }
   ],
   "source": [
    "scores = dqn.test(env, nb_episodes=100, visualize=False)\n",
    "print(np.mean(scores.history['episode_reward']))"
   ]
  },
  {
   "cell_type": "code",
   "execution_count": 21,
   "metadata": {},
   "outputs": [
    {
     "name": "stdout",
     "output_type": "stream",
     "text": [
      "Testing for 15 episodes ...\n"
     ]
    },
    {
     "name": "stderr",
     "output_type": "stream",
     "text": [
      "2024-05-27 00:49:12.889 python[40576:4040988] Warning: Expected min height of view: (<NSPopoverTouchBarItemButton: 0x7fdea6bfc910>) to be less than or equal to 30 but got a height of 32.000000. This error will be logged once per view in violation.\n",
      "2024-05-27 00:49:12.890 python[40576:4040988] Warning: Expected min height of view: (<NSButton: 0x7fdea69b77e0>) to be less than or equal to 30 but got a height of 32.000000. This error will be logged once per view in violation.\n",
      "2024-05-27 00:49:12.892 python[40576:4040988] Warning: Expected min height of view: (<NSPopoverTouchBarItemButton: 0x7fdea69bb480>) to be less than or equal to 30 but got a height of 32.000000. This error will be logged once per view in violation.\n",
      "2024-05-27 00:49:12.894 python[40576:4040988] Warning: Expected min height of view: (<NSPopoverTouchBarItemButton: 0x7fdea69c2e10>) to be less than or equal to 30 but got a height of 32.000000. This error will be logged once per view in violation.\n"
     ]
    },
    {
     "name": "stdout",
     "output_type": "stream",
     "text": [
      "Episode 1: reward: 317.000, steps: 317\n",
      "Episode 2: reward: 205.000, steps: 205\n",
      "Episode 3: reward: 189.000, steps: 189\n",
      "Episode 4: reward: 196.000, steps: 196\n",
      "Episode 5: reward: 212.000, steps: 212\n",
      "Episode 6: reward: 328.000, steps: 328\n",
      "Episode 7: reward: 233.000, steps: 233\n",
      "Episode 8: reward: 173.000, steps: 173\n",
      "Episode 9: reward: 177.000, steps: 177\n",
      "Episode 10: reward: 199.000, steps: 199\n",
      "Episode 11: reward: 291.000, steps: 291\n",
      "Episode 12: reward: 207.000, steps: 207\n",
      "Episode 13: reward: 171.000, steps: 171\n",
      "Episode 14: reward: 215.000, steps: 215\n",
      "Episode 15: reward: 185.000, steps: 185\n"
     ]
    }
   ],
   "source": [
    "_ = dqn.test(env, nb_episodes=15, visualize=True)"
   ]
  },
  {
   "cell_type": "markdown",
   "metadata": {},
   "source": [
    "# 4. Reloading Agent from Memory"
   ]
  },
  {
   "cell_type": "code",
   "execution_count": null,
   "metadata": {},
   "outputs": [],
   "source": [
    "dqn.save_weights('dqn_weights.h5f', overwrite=True)"
   ]
  },
  {
   "cell_type": "code",
   "execution_count": null,
   "metadata": {},
   "outputs": [],
   "source": [
    "del model\n",
    "del dqn\n",
    "del env"
   ]
  },
  {
   "cell_type": "code",
   "execution_count": null,
   "metadata": {},
   "outputs": [],
   "source": [
    "env = gym.make('CartPole-v0')\n",
    "actions = env.action_space.n\n",
    "states = env.observation_space.shape\n",
    "model = build_model(states, actions)\n",
    "dqn = build_agent(model, actions)\n",
    "dqn.compile(Adam(lr=1e-3), metrics=['mae'])"
   ]
  },
  {
   "cell_type": "code",
   "execution_count": null,
   "metadata": {},
   "outputs": [],
   "source": [
    "dqn.load_weights('dqn_weights.h5f')"
   ]
  },
  {
   "cell_type": "code",
   "execution_count": null,
   "metadata": {},
   "outputs": [],
   "source": [
    "_ = dqn.test(env, nb_episodes=5, visualize=False)"
   ]
  },
  {
   "cell_type": "code",
   "execution_count": null,
   "metadata": {},
   "outputs": [],
   "source": [
    "!pip show pyglet"
   ]
  },
  {
   "cell_type": "code",
   "execution_count": null,
   "metadata": {},
   "outputs": [],
   "source": []
  }
 ],
 "metadata": {
  "kernelspec": {
   "display_name": "Python 3 (ipykernel)",
   "language": "python",
   "name": "python3"
  },
  "language_info": {
   "codemirror_mode": {
    "name": "ipython",
    "version": 3
   },
   "file_extension": ".py",
   "mimetype": "text/x-python",
   "name": "python",
   "nbconvert_exporter": "python",
   "pygments_lexer": "ipython3",
   "version": "3.7.16"
  }
 },
 "nbformat": 4,
 "nbformat_minor": 4
}
