{
 "cells": [
  {
   "cell_type": "markdown",
   "metadata": {},
   "source": [
    "# 0. Install Dependencies"
   ]
  },
  {
   "cell_type": "markdown",
   "metadata": {},
   "source": [
    "# IMPORTANT Make sure you create a conda environment with Python 3.7 installed "
   ]
  },
  {
   "cell_type": "code",
   "execution_count": 1,
   "metadata": {
    "tags": []
   },
   "outputs": [],
   "source": [
    "%%capture \n",
    "\n",
    "# capture above helps not print the junk install messages here! \n",
    "\n",
    "!pip install tensorflow==2.3.0\n",
    "!pip install gym==0.18.0\n",
    "!pip install keras\n",
    "!pip install keras-rl2\n",
    "!pip install rl-agents==0.1.1\n",
    "!pip install pyglet==1.5.11"
   ]
  },
  {
   "cell_type": "markdown",
   "metadata": {
    "tags": []
   },
   "source": [
    "## IMPORTANT https://stackoverflow.com/questions/73978651/valueerror-error-when-checking-input-expected-flatten-input-to-have-shape-1 "
   ]
  },
  {
   "cell_type": "markdown",
   "metadata": {},
   "source": [
    "# 1. Test Random Environment with OpenAI Gym"
   ]
  },
  {
   "cell_type": "code",
   "execution_count": 2,
   "metadata": {
    "tags": []
   },
   "outputs": [],
   "source": [
    "import gym "
   ]
  },
  {
   "cell_type": "code",
   "execution_count": 3,
   "metadata": {
    "tags": []
   },
   "outputs": [
    {
     "name": "stdout",
     "output_type": "stream",
     "text": [
      "states (4,)\n",
      "actions 2\n",
      "observation space Box(-3.4028234663852886e+38, 3.4028234663852886e+38, (4,), float32)\n",
      "action space Discrete(2)\n"
     ]
    }
   ],
   "source": [
    "env = gym.make('CartPole-v1')\n",
    "states = env.observation_space.shape\n",
    "actions = env.action_space.n\n",
    "\n",
    "observation_space = env.observation_space\n",
    "action_space = env.action_space\n",
    "\n",
    "print(\"states\", states)\n",
    "print(\"actions\", actions)\n",
    "print(\"observation space\", observation_space)\n",
    "print(\"action space\", action_space)"
   ]
  },
  {
   "cell_type": "code",
   "execution_count": null,
   "metadata": {
    "tags": []
   },
   "outputs": [],
   "source": []
  },
  {
   "cell_type": "code",
   "execution_count": 4,
   "metadata": {
    "tags": []
   },
   "outputs": [
    {
     "name": "stdout",
     "output_type": "stream",
     "text": [
      "Episode:1 Score:20.0\n",
      "Episode:2 Score:10.0\n",
      "Episode:3 Score:20.0\n",
      "Episode:4 Score:13.0\n",
      "Episode:5 Score:15.0\n",
      "Episode:6 Score:12.0\n",
      "Episode:7 Score:15.0\n",
      "Episode:8 Score:10.0\n",
      "Episode:9 Score:10.0\n",
      "Episode:10 Score:15.0\n"
     ]
    }
   ],
   "source": [
    "episodes = 10\n",
    "for episode in range(1, episodes+1):\n",
    "    state = env.reset()\n",
    "    done = False\n",
    "    score = 0 \n",
    "    \n",
    "    while not done:\n",
    "        #env.render()\n",
    "        action = env.action_space.sample()\n",
    "        n_state, reward, done, info = env.step(action)\n",
    "        score+=reward\n",
    "    print('Episode:{} Score:{}'.format(episode, score))"
   ]
  },
  {
   "cell_type": "code",
   "execution_count": 5,
   "metadata": {
    "tags": []
   },
   "outputs": [
    {
     "data": {
      "text/plain": [
       "(4, 1)"
      ]
     },
     "execution_count": 5,
     "metadata": {},
     "output_type": "execute_result"
    }
   ],
   "source": [
    "states[0],1"
   ]
  },
  {
   "cell_type": "markdown",
   "metadata": {},
   "source": [
    "# 2. Create a Deep Learning Model with Keras"
   ]
  },
  {
   "cell_type": "code",
   "execution_count": 6,
   "metadata": {
    "tags": []
   },
   "outputs": [],
   "source": [
    "import numpy as np\n",
    "from tensorflow.keras.models import Sequential\n",
    "from tensorflow.keras.layers import Dense, Flatten,Input\n",
    "from tensorflow.keras.optimizers import Adam\n"
   ]
  },
  {
   "cell_type": "code",
   "execution_count": 7,
   "metadata": {
    "tags": []
   },
   "outputs": [],
   "source": [
    "def build_model(states, actions):\n",
    "    model = Sequential()\n",
    "    model.add(Flatten(input_shape=(1,states[0])))\n",
    "    model.add(Dense(24, activation='relu'))\n",
    "    model.add(Dense(24, activation='relu'))\n",
    "    model.add(Dense(actions, activation='linear'))\n",
    "    return model"
   ]
  },
  {
   "cell_type": "code",
   "execution_count": 16,
   "metadata": {},
   "outputs": [],
   "source": [
    "# sometimes, when we get the following error, we need to delete the model and build it \n",
    "# \n",
    "# AttributeError: 'Sequential' object has no attribute '_compile_time_distribution_strategy'\n",
    "\n",
    "\n",
    "if \"model\" in locals():\n",
    "    del model"
   ]
  },
  {
   "cell_type": "code",
   "execution_count": 17,
   "metadata": {
    "tags": []
   },
   "outputs": [],
   "source": [
    "model = build_model(states, actions)"
   ]
  },
  {
   "cell_type": "markdown",
   "metadata": {},
   "source": [
    "# 3. Build Agent with Keras-RL"
   ]
  },
  {
   "cell_type": "code",
   "execution_count": 10,
   "metadata": {
    "tags": []
   },
   "outputs": [
    {
     "name": "stdout",
     "output_type": "stream",
     "text": [
      "Model: \"sequential\"\n",
      "_________________________________________________________________\n",
      "Layer (type)                 Output Shape              Param #   \n",
      "=================================================================\n",
      "flatten (Flatten)            (None, 4)                 0         \n",
      "_________________________________________________________________\n",
      "dense (Dense)                (None, 24)                120       \n",
      "_________________________________________________________________\n",
      "dense_1 (Dense)              (None, 24)                600       \n",
      "_________________________________________________________________\n",
      "dense_2 (Dense)              (None, 2)                 50        \n",
      "=================================================================\n",
      "Total params: 770\n",
      "Trainable params: 770\n",
      "Non-trainable params: 0\n",
      "_________________________________________________________________\n"
     ]
    }
   ],
   "source": [
    "model.summary()"
   ]
  },
  {
   "cell_type": "code",
   "execution_count": 11,
   "metadata": {
    "tags": []
   },
   "outputs": [],
   "source": [
    "from rl.agents import DQNAgent\n",
    "from rl.policy import BoltzmannQPolicy\n",
    "from rl.memory import SequentialMemory"
   ]
  },
  {
   "cell_type": "code",
   "execution_count": 12,
   "metadata": {
    "tags": []
   },
   "outputs": [
    {
     "data": {
      "text/plain": [
       "(4,)"
      ]
     },
     "execution_count": 12,
     "metadata": {},
     "output_type": "execute_result"
    }
   ],
   "source": [
    "# Example of an observation from the environment\n",
    "observation = env.reset()  # This should be a 1D array with shape (4,)\n",
    "observation.shape"
   ]
  },
  {
   "cell_type": "code",
   "execution_count": 13,
   "metadata": {
    "tags": []
   },
   "outputs": [],
   "source": [
    "def build_agent(model, actions):\n",
    "    policy = BoltzmannQPolicy()\n",
    "    memory = SequentialMemory(limit=50000, window_length=1)\n",
    "    dqn = DQNAgent(model=model, memory=memory, policy=policy, \n",
    "                  nb_actions=actions, nb_steps_warmup=10, target_model_update=1e-2)\n",
    "    return dqn"
   ]
  },
  {
   "cell_type": "code",
   "execution_count": 18,
   "metadata": {
    "tags": []
   },
   "outputs": [
    {
     "name": "stdout",
     "output_type": "stream",
     "text": [
      "Training for 10000 steps ...\n",
      "Interval 1 (0 steps performed)\n",
      "WARNING:tensorflow:From /Users/siddharthmanu/anaconda3/envs/keras-rl/lib/python3.7/site-packages/tensorflow/python/keras/engine/training_v1.py:2070: Model.state_updates (from tensorflow.python.keras.engine.training) is deprecated and will be removed in a future version.\n",
      "Instructions for updating:\n",
      "This property should not be used in TensorFlow 2.0, as updates are applied automatically.\n",
      "    1/10000 [..............................] - ETA: 12:15 - reward: 1.0000"
     ]
    },
    {
     "name": "stderr",
     "output_type": "stream",
     "text": [
      "/Users/siddharthmanu/anaconda3/envs/keras-rl/lib/python3.7/site-packages/rl/memory.py:37: UserWarning: Not enough entries to sample without replacement. Consider increasing your warm-up phase to avoid oversampling!\n",
      "  warnings.warn('Not enough entries to sample without replacement. Consider increasing your warm-up phase to avoid oversampling!')\n"
     ]
    },
    {
     "name": "stdout",
     "output_type": "stream",
     "text": [
      "10000/10000 [==============================] - 68s 7ms/step - reward: 1.0000\n",
      "done, took 67.749 seconds\n"
     ]
    },
    {
     "data": {
      "text/plain": [
       "<tensorflow.python.keras.callbacks.History at 0x7fdaba4bb190>"
      ]
     },
     "execution_count": 18,
     "metadata": {},
     "output_type": "execute_result"
    }
   ],
   "source": [
    "dqn = build_agent(model, actions)\n",
    "dqn.compile(Adam(lr=1e-3), metrics=['mae'])\n",
    "dqn.fit(env, nb_steps=10000, visualize=False, verbose=1)\n",
    "\n",
    "\n",
    "# if there is the following error, then go above and do \"del model\" and \"build the model again and come back to this step\"\n",
    "#AttributeError: 'Sequential' object has no attribute '_compile_time_distribution_strategy'\n"
   ]
  },
  {
   "cell_type": "code",
   "execution_count": 19,
   "metadata": {
    "tags": []
   },
   "outputs": [
    {
     "name": "stdout",
     "output_type": "stream",
     "text": [
      "Testing for 100 episodes ...\n",
      "Episode 1: reward: 172.000, steps: 172\n",
      "Episode 2: reward: 166.000, steps: 166\n",
      "Episode 3: reward: 263.000, steps: 263\n",
      "Episode 4: reward: 160.000, steps: 160\n",
      "Episode 5: reward: 244.000, steps: 244\n",
      "Episode 6: reward: 165.000, steps: 165\n",
      "Episode 7: reward: 179.000, steps: 179\n",
      "Episode 8: reward: 222.000, steps: 222\n",
      "Episode 9: reward: 184.000, steps: 184\n",
      "Episode 10: reward: 152.000, steps: 152\n",
      "Episode 11: reward: 211.000, steps: 211\n",
      "Episode 12: reward: 193.000, steps: 193\n",
      "Episode 13: reward: 202.000, steps: 202\n",
      "Episode 14: reward: 228.000, steps: 228\n",
      "Episode 15: reward: 231.000, steps: 231\n",
      "Episode 16: reward: 194.000, steps: 194\n",
      "Episode 17: reward: 196.000, steps: 196\n",
      "Episode 18: reward: 192.000, steps: 192\n",
      "Episode 19: reward: 195.000, steps: 195\n",
      "Episode 20: reward: 222.000, steps: 222\n",
      "Episode 21: reward: 212.000, steps: 212\n",
      "Episode 22: reward: 221.000, steps: 221\n",
      "Episode 23: reward: 234.000, steps: 234\n",
      "Episode 24: reward: 229.000, steps: 229\n",
      "Episode 25: reward: 298.000, steps: 298\n",
      "Episode 26: reward: 280.000, steps: 280\n",
      "Episode 27: reward: 216.000, steps: 216\n",
      "Episode 28: reward: 209.000, steps: 209\n",
      "Episode 29: reward: 176.000, steps: 176\n",
      "Episode 30: reward: 166.000, steps: 166\n",
      "Episode 31: reward: 246.000, steps: 246\n",
      "Episode 32: reward: 236.000, steps: 236\n",
      "Episode 33: reward: 176.000, steps: 176\n",
      "Episode 34: reward: 200.000, steps: 200\n",
      "Episode 35: reward: 182.000, steps: 182\n",
      "Episode 36: reward: 270.000, steps: 270\n",
      "Episode 37: reward: 238.000, steps: 238\n",
      "Episode 38: reward: 205.000, steps: 205\n",
      "Episode 39: reward: 203.000, steps: 203\n",
      "Episode 40: reward: 142.000, steps: 142\n",
      "Episode 41: reward: 246.000, steps: 246\n",
      "Episode 42: reward: 260.000, steps: 260\n",
      "Episode 43: reward: 174.000, steps: 174\n",
      "Episode 44: reward: 166.000, steps: 166\n",
      "Episode 45: reward: 196.000, steps: 196\n",
      "Episode 46: reward: 274.000, steps: 274\n",
      "Episode 47: reward: 257.000, steps: 257\n",
      "Episode 48: reward: 229.000, steps: 229\n",
      "Episode 49: reward: 289.000, steps: 289\n",
      "Episode 50: reward: 256.000, steps: 256\n",
      "Episode 51: reward: 285.000, steps: 285\n",
      "Episode 52: reward: 271.000, steps: 271\n",
      "Episode 53: reward: 186.000, steps: 186\n",
      "Episode 54: reward: 226.000, steps: 226\n",
      "Episode 55: reward: 206.000, steps: 206\n",
      "Episode 56: reward: 213.000, steps: 213\n",
      "Episode 57: reward: 210.000, steps: 210\n",
      "Episode 58: reward: 296.000, steps: 296\n",
      "Episode 59: reward: 246.000, steps: 246\n",
      "Episode 60: reward: 367.000, steps: 367\n",
      "Episode 61: reward: 266.000, steps: 266\n",
      "Episode 62: reward: 183.000, steps: 183\n",
      "Episode 63: reward: 232.000, steps: 232\n",
      "Episode 64: reward: 166.000, steps: 166\n",
      "Episode 65: reward: 175.000, steps: 175\n",
      "Episode 66: reward: 201.000, steps: 201\n",
      "Episode 67: reward: 201.000, steps: 201\n",
      "Episode 68: reward: 228.000, steps: 228\n",
      "Episode 69: reward: 356.000, steps: 356\n",
      "Episode 70: reward: 174.000, steps: 174\n",
      "Episode 71: reward: 178.000, steps: 178\n",
      "Episode 72: reward: 192.000, steps: 192\n",
      "Episode 73: reward: 241.000, steps: 241\n",
      "Episode 74: reward: 500.000, steps: 500\n",
      "Episode 75: reward: 212.000, steps: 212\n",
      "Episode 76: reward: 164.000, steps: 164\n",
      "Episode 77: reward: 280.000, steps: 280\n",
      "Episode 78: reward: 215.000, steps: 215\n",
      "Episode 79: reward: 248.000, steps: 248\n",
      "Episode 80: reward: 218.000, steps: 218\n",
      "Episode 81: reward: 282.000, steps: 282\n",
      "Episode 82: reward: 259.000, steps: 259\n",
      "Episode 83: reward: 226.000, steps: 226\n",
      "Episode 84: reward: 251.000, steps: 251\n",
      "Episode 85: reward: 242.000, steps: 242\n",
      "Episode 86: reward: 270.000, steps: 270\n",
      "Episode 87: reward: 288.000, steps: 288\n",
      "Episode 88: reward: 182.000, steps: 182\n",
      "Episode 89: reward: 195.000, steps: 195\n",
      "Episode 90: reward: 328.000, steps: 328\n",
      "Episode 91: reward: 194.000, steps: 194\n",
      "Episode 92: reward: 272.000, steps: 272\n",
      "Episode 93: reward: 230.000, steps: 230\n",
      "Episode 94: reward: 208.000, steps: 208\n",
      "Episode 95: reward: 360.000, steps: 360\n",
      "Episode 96: reward: 218.000, steps: 218\n",
      "Episode 97: reward: 238.000, steps: 238\n",
      "Episode 98: reward: 221.000, steps: 221\n",
      "Episode 99: reward: 228.000, steps: 228\n",
      "Episode 100: reward: 173.000, steps: 173\n",
      "226.58\n"
     ]
    }
   ],
   "source": [
    "scores = dqn.test(env, nb_episodes=100, visualize=False)\n",
    "print(np.mean(scores.history['episode_reward']))"
   ]
  },
  {
   "cell_type": "code",
   "execution_count": 20,
   "metadata": {},
   "outputs": [
    {
     "name": "stdout",
     "output_type": "stream",
     "text": [
      "Testing for 15 episodes ...\n"
     ]
    },
    {
     "name": "stderr",
     "output_type": "stream",
     "text": [
      "2024-05-27 00:58:20.982 python[40952:4050519] Warning: Expected min height of view: (<NSPopoverTouchBarItemButton: 0x7fdabd22ad50>) to be less than or equal to 30 but got a height of 32.000000. This error will be logged once per view in violation.\n",
      "2024-05-27 00:58:20.982 python[40952:4050519] Warning: Expected min height of view: (<NSButton: 0x7fdaba9adfa0>) to be less than or equal to 30 but got a height of 32.000000. This error will be logged once per view in violation.\n",
      "2024-05-27 00:58:20.985 python[40952:4050519] Warning: Expected min height of view: (<NSPopoverTouchBarItemButton: 0x7fdaba9b0130>) to be less than or equal to 30 but got a height of 32.000000. This error will be logged once per view in violation.\n",
      "2024-05-27 00:58:20.987 python[40952:4050519] Warning: Expected min height of view: (<NSPopoverTouchBarItemButton: 0x7fdaba9c1ec0>) to be less than or equal to 30 but got a height of 32.000000. This error will be logged once per view in violation.\n"
     ]
    },
    {
     "name": "stdout",
     "output_type": "stream",
     "text": [
      "Episode 1: reward: 171.000, steps: 171\n",
      "Episode 2: reward: 255.000, steps: 255\n",
      "Episode 3: reward: 251.000, steps: 251\n",
      "Episode 4: reward: 218.000, steps: 218\n",
      "Episode 5: reward: 330.000, steps: 330\n",
      "Episode 6: reward: 321.000, steps: 321\n",
      "Episode 7: reward: 198.000, steps: 198\n",
      "Episode 8: reward: 500.000, steps: 500\n",
      "Episode 9: reward: 223.000, steps: 223\n",
      "Episode 10: reward: 300.000, steps: 300\n",
      "Episode 11: reward: 254.000, steps: 254\n",
      "Episode 12: reward: 206.000, steps: 206\n",
      "Episode 13: reward: 340.000, steps: 340\n",
      "Episode 14: reward: 260.000, steps: 260\n",
      "Episode 15: reward: 218.000, steps: 218\n"
     ]
    }
   ],
   "source": [
    "# if visualize=True doesn't work due to openGL issues, try making it False.\n",
    "# to solve open GL issues, install pyglet = 1.5.11 (even if it says there's an error, it works for me)\n",
    "\n",
    "_ = dqn.test(env, nb_episodes=15, visualize=True)\n",
    "\n"
   ]
  },
  {
   "cell_type": "markdown",
   "metadata": {},
   "source": [
    "# 4. Reloading Agent from Memory"
   ]
  },
  {
   "cell_type": "code",
   "execution_count": 21,
   "metadata": {},
   "outputs": [],
   "source": [
    "dqn.save_weights('dqn_weights.h5f', overwrite=True)"
   ]
  },
  {
   "cell_type": "code",
   "execution_count": 22,
   "metadata": {},
   "outputs": [],
   "source": [
    "del model\n",
    "del dqn\n",
    "del env"
   ]
  },
  {
   "cell_type": "code",
   "execution_count": 23,
   "metadata": {},
   "outputs": [],
   "source": [
    "env = gym.make('CartPole-v0')\n",
    "actions = env.action_space.n\n",
    "states = env.observation_space.shape\n",
    "model = build_model(states, actions)\n",
    "dqn = build_agent(model, actions)\n",
    "dqn.compile(Adam(lr=1e-3), metrics=['mae'])"
   ]
  },
  {
   "cell_type": "code",
   "execution_count": 24,
   "metadata": {},
   "outputs": [],
   "source": [
    "dqn.load_weights('dqn_weights.h5f')"
   ]
  },
  {
   "cell_type": "code",
   "execution_count": 25,
   "metadata": {},
   "outputs": [
    {
     "name": "stdout",
     "output_type": "stream",
     "text": [
      "Testing for 5 episodes ...\n",
      "Episode 1: reward: 200.000, steps: 200\n",
      "Episode 2: reward: 200.000, steps: 200\n",
      "Episode 3: reward: 184.000, steps: 184\n",
      "Episode 4: reward: 182.000, steps: 182\n",
      "Episode 5: reward: 200.000, steps: 200\n"
     ]
    }
   ],
   "source": [
    "_ = dqn.test(env, nb_episodes=5, visualize=False)"
   ]
  }
 ],
 "metadata": {
  "kernelspec": {
   "display_name": "Python 3 (ipykernel)",
   "language": "python",
   "name": "python3"
  },
  "language_info": {
   "codemirror_mode": {
    "name": "ipython",
    "version": 3
   },
   "file_extension": ".py",
   "mimetype": "text/x-python",
   "name": "python",
   "nbconvert_exporter": "python",
   "pygments_lexer": "ipython3",
   "version": "3.7.16"
  }
 },
 "nbformat": 4,
 "nbformat_minor": 4
}
