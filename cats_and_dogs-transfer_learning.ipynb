{
 "cells": [
  {
   "cell_type": "markdown",
   "metadata": {},
   "source": [
    "## Cats And Dogs"
   ]
  },
  {
   "cell_type": "markdown",
   "metadata": {},
   "source": [
    "# Download data from \n",
    "\n",
    "kaggle competitions download -c dogs-vs-cats https://www.kaggle.com/c/dogs-vs-cats/data "
   ]
  },
  {
   "cell_type": "markdown",
   "metadata": {},
   "source": []
  },
  {
   "cell_type": "code",
   "execution_count": 1,
   "metadata": {},
   "outputs": [
    {
     "name": "stdout",
     "output_type": "stream",
     "text": [
      "The zipfile (dataset) is extracted\n"
     ]
    }
   ],
   "source": [
    "#extract the dataset\n",
    "\n",
    "from zipfile import ZipFile\n",
    "\n",
    "dataset = 'dogs-vs-cats.zip'\n",
    "\n",
    "with ZipFile(dataset, 'r') as zip:\n",
    "    zip.extractall()\n",
    "    print(\"The zipfile (dataset) is extracted\")\n",
    "\n",
    "    "
   ]
  },
  {
   "cell_type": "code",
   "execution_count": 3,
   "metadata": {},
   "outputs": [
    {
     "name": "stdout",
     "output_type": "stream",
     "text": [
      "The train data zipfile (dataset) is extracted\n"
     ]
    }
   ],
   "source": [
    "\n",
    "#extract the train data\n",
    "\n",
    "train_data = 'dogs_vs_cats/train.zip'\n",
    "\n",
    "\n",
    "with ZipFile(train_data, 'r') as zip:\n",
    "    zip.extractall()\n",
    "    print(\"The train data zipfile (dataset) is extracted\")\n"
   ]
  },
  {
   "cell_type": "code",
   "execution_count": null,
   "metadata": {},
   "outputs": [],
   "source": []
  }
 ],
 "metadata": {
  "kernelspec": {
   "display_name": "py3jp",
   "language": "python",
   "name": "python3"
  },
  "language_info": {
   "codemirror_mode": {
    "name": "ipython",
    "version": 3
   },
   "file_extension": ".py",
   "mimetype": "text/x-python",
   "name": "python",
   "nbconvert_exporter": "python",
   "pygments_lexer": "ipython3",
   "version": "3.11.5"
  }
 },
 "nbformat": 4,
 "nbformat_minor": 2
}
